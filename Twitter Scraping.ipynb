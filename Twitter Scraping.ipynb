{
  "nbformat": 4,
  "nbformat_minor": 0,
  "metadata": {
    "colab": {
      "provenance": [],
      "authorship_tag": "ABX9TyMCi0GRwlFv9vkRxHO2mWMy",
      "include_colab_link": true
    },
    "kernelspec": {
      "name": "python3",
      "display_name": "Python 3"
    },
    "language_info": {
      "name": "python"
    }
  },
  "cells": [
    {
      "cell_type": "markdown",
      "metadata": {
        "id": "view-in-github",
        "colab_type": "text"
      },
      "source": [
        "<a href=\"https://colab.research.google.com/github/RajaneeshRaj/Twitter-Scrapping/blob/main/Twitter%20Scraping.ipynb\" target=\"_parent\"><img src=\"https://colab.research.google.com/assets/colab-badge.svg\" alt=\"Open In Colab\"/></a>"
      ]
    },
    {
      "cell_type": "code",
      "execution_count": 2,
      "metadata": {
        "id": "v3GPa4Hyg7qN"
      },
      "outputs": [],
      "source": [
        "!pip install -q snscrape"
      ]
    },
    {
      "cell_type": "code",
      "source": [
        "import snscrape.modules.twitter as sntwitter\n",
        "import pandas as pd\n",
        "\n",
        "#Give Which Tweets we want & how many\n",
        "Username = \"Spotify Tamil\"\n",
        "Numbers= int(input())\n",
        "\n",
        "#reate a Empty list for storing the items\n",
        "Tweets_Data=[]\n",
        "\n",
        "#Iterate the Collecting Items from there by using some Key words..\n",
        "#When stop the collection if condition becomes satisfied\n",
        "\n",
        "for tweet in sntwitter.TwitterSearchScraper(Username).get_items():\n",
        " if len(Tweets_Data)==Numbers:\n",
        "     break\n",
        "  \n",
        " Tweets_Data.append ([tweet.date,tweet.id,tweet.url,tweet.content,tweet.user,tweet.replyCount,tweet.retweetCount,tweet.lang,tweet.source,tweet.likeCount])  \n",
        "\n",
        "#Convert a list into data frame by using Pandas Lib..\n",
        "df = pd.DataFrame(Tweets_Data, columns = [\"DATE\",\"ID\",\"URL\",\"CONTENT\",\"USER\",\"REPLYCOUNT\",\"RETWEETCOUNT\",\"LANG\",\"SOURCE\",\"LIKECOUNT\"])  \n",
        "print(df)\n",
        "\n",
        "df.to_csv('Spotify.csv', index = False)\n"
      ],
      "metadata": {
        "colab": {
          "base_uri": "https://localhost:8080/"
        },
        "id": "K8Ob9VKOhj6G",
        "outputId": "18f6238b-f3b8-42e3-bc2a-45ecee27ac26"
      },
      "execution_count": 9,
      "outputs": [
        {
          "name": "stdout",
          "output_type": "stream",
          "text": [
            "500\n"
          ]
        },
        {
          "output_type": "stream",
          "name": "stderr",
          "text": [
            "<ipython-input-9-ac48b7787327>:18: FutureWarning: content is deprecated, use rawContent instead\n",
            "  Tweets_Data.append ([tweet.date,tweet.id,tweet.url,tweet.content,tweet.user,tweet.replyCount,tweet.retweetCount,tweet.lang,tweet.source,tweet.likeCount])\n"
          ]
        },
        {
          "output_type": "stream",
          "name": "stdout",
          "text": [
            "                         DATE                   ID  \\\n",
            "0   2023-02-20 17:09:32+00:00  1627717100424036353   \n",
            "1   2023-02-20 08:21:57+00:00  1627584329827385346   \n",
            "2   2023-02-20 05:24:47+00:00  1627539744157736961   \n",
            "3   2023-02-20 05:16:35+00:00  1627537678584680448   \n",
            "4   2023-02-19 16:32:59+00:00  1627345513489272833   \n",
            "..                        ...                  ...   \n",
            "495 2022-11-07 15:15:29+00:00  1589637670262960131   \n",
            "496 2022-11-07 14:32:44+00:00  1589626913231818752   \n",
            "497 2022-11-07 11:45:46+00:00  1589584895978135553   \n",
            "498 2022-11-07 11:35:37+00:00  1589582338841014272   \n",
            "499 2022-11-07 11:09:45+00:00  1589575828354260994   \n",
            "\n",
            "                                                   URL  \\\n",
            "0    https://twitter.com/thamizhselvan_k/status/162...   \n",
            "1    https://twitter.com/spideyyy97/status/16275843...   \n",
            "2    https://twitter.com/spideyyy97/status/16275397...   \n",
            "3    https://twitter.com/kavyaaaa69/status/16275376...   \n",
            "4    https://twitter.com/srivatchala_m/status/16273...   \n",
            "..                                                 ...   \n",
            "495  https://twitter.com/KSriNanthaA/status/1589637...   \n",
            "496  https://twitter.com/Abhishooketh/status/158962...   \n",
            "497  https://twitter.com/krishna22kp/status/1589584...   \n",
            "498  https://twitter.com/MSuhasR/status/15895823388...   \n",
            "499  https://twitter.com/krishna22kp/status/1589575...   \n",
            "\n",
            "                                               CONTENT  \\\n",
            "0    New episode from Mic With M Little- Tamil poca...   \n",
            "1    Wrong info. Spotify does have the tamil album ...   \n",
            "2    When Leiko Laima played when Shaam was on stag...   \n",
            "3          @SwethaPD Yeah Spotify fucks Tamil lyrics😂😂   \n",
            "4    How are the lyrics for Tamil songs on Spotify ...   \n",
            "..                                                 ...   \n",
            "495  Check out the new Nanthaa SRISKANTHARAJAH sing...   \n",
            "496  Can I sue spotify for playing uk drill when i ...   \n",
            "497  @MSuhas0698 @KaroJaraJalsa @Spotify Naku tamil...   \n",
            "498  @krishna22kp @KaroJaraJalsa @Spotify Adhi thel...   \n",
            "499  @MSuhas0698 @KaroJaraJalsa @Spotify valayosai ...   \n",
            "\n",
            "                                    USER  REPLYCOUNT  RETWEETCOUNT LANG  \\\n",
            "0    https://twitter.com/thamizhselvan_k           0             0   en   \n",
            "1         https://twitter.com/spideyyy97           0             0   en   \n",
            "2         https://twitter.com/spideyyy97           3             0   en   \n",
            "3         https://twitter.com/kavyaaaa69           1             1   en   \n",
            "4      https://twitter.com/srivatchala_m           0             0   en   \n",
            "..                                   ...         ...           ...  ...   \n",
            "495      https://twitter.com/KSriNanthaA           0             0   en   \n",
            "496     https://twitter.com/Abhishooketh           1             0   en   \n",
            "497      https://twitter.com/krishna22kp           0             0   et   \n",
            "498          https://twitter.com/MSuhasR           1             0   et   \n",
            "499      https://twitter.com/krishna22kp           1             0   in   \n",
            "\n",
            "                                                SOURCE  LIKECOUNT  \n",
            "0    <a href=\"http://twitter.com/download/android\" ...          1  \n",
            "1    <a href=\"http://twitter.com/download/iphone\" r...          1  \n",
            "2    <a href=\"http://twitter.com/download/iphone\" r...          4  \n",
            "3    <a href=\"http://twitter.com/download/android\" ...          0  \n",
            "4    <a href=\"http://twitter.com/download/iphone\" r...          1  \n",
            "..                                                 ...        ...  \n",
            "495  <a href=\"https://mobile.twitter.com\" rel=\"nofo...          2  \n",
            "496  <a href=\"http://twitter.com/download/android\" ...          7  \n",
            "497  <a href=\"https://mobile.twitter.com\" rel=\"nofo...          0  \n",
            "498  <a href=\"http://twitter.com/download/android\" ...          1  \n",
            "499  <a href=\"https://mobile.twitter.com\" rel=\"nofo...          1  \n",
            "\n",
            "[500 rows x 10 columns]\n"
          ]
        }
      ]
    }
  ]
}